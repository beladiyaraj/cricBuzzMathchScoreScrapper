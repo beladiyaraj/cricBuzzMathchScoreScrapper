{
 "cells": [
  {
   "cell_type": "code",
   "execution_count": 9,
   "id": "74d1582a",
   "metadata": {
    "scrolled": true
   },
   "outputs": [
    {
     "name": "stdout",
     "output_type": "stream",
     "text": [
      "Match Name is \n",
      "  18th Match • Womens Premier League 2023 T20 \n",
      "current Score is \n",
      " 109-8 (20)\n",
      "Match Name is \n",
      "  18th Match • Womens Premier League 2023 T20 \n",
      "current Score is \n",
      " 109-8 (20)\n",
      "Match Name is \n",
      "  18th Match • Womens Premier League 2023 T20 \n",
      "current Score is \n",
      " 109-8 (20)\n",
      "Match Name is \n",
      "  18th Match • Womens Premier League 2023 T20 \n",
      "current Score is \n",
      " 109-8 (20)\n",
      "Match Name is \n",
      "  18th Match • Womens Premier League 2023 T20 \n",
      "current Score is \n",
      " 109-8 (20)\n",
      "Match Name is \n",
      "  18th Match • Womens Premier League 2023 T20 \n",
      "current Score is \n",
      " 109-8 (20)\n"
     ]
    },
    {
     "ename": "KeyboardInterrupt",
     "evalue": "",
     "output_type": "error",
     "traceback": [
      "\u001b[1;31m---------------------------------------------------------------------------\u001b[0m",
      "\u001b[1;31mKeyboardInterrupt\u001b[0m                         Traceback (most recent call last)",
      "\u001b[1;32m~\\AppData\\Local\\Temp\\ipykernel_11328\\2739630310.py\u001b[0m in \u001b[0;36m<module>\u001b[1;34m\u001b[0m\n\u001b[0;32m      6\u001b[0m \u001b[1;33m\u001b[0m\u001b[0m\n\u001b[0;32m      7\u001b[0m \u001b[1;32mwhile\u001b[0m \u001b[1;32mTrue\u001b[0m\u001b[1;33m:\u001b[0m\u001b[1;33m\u001b[0m\u001b[1;33m\u001b[0m\u001b[0m\n\u001b[1;32m----> 8\u001b[1;33m     \u001b[0mtime\u001b[0m\u001b[1;33m.\u001b[0m\u001b[0msleep\u001b[0m\u001b[1;33m(\u001b[0m\u001b[1;36m1\u001b[0m\u001b[1;33m)\u001b[0m\u001b[1;33m\u001b[0m\u001b[1;33m\u001b[0m\u001b[0m\n\u001b[0m\u001b[0;32m      9\u001b[0m \u001b[1;33m\u001b[0m\u001b[0m\n\u001b[0;32m     10\u001b[0m     \u001b[0mresponse\u001b[0m\u001b[1;33m=\u001b[0m\u001b[0mrequests\u001b[0m\u001b[1;33m.\u001b[0m\u001b[0mget\u001b[0m\u001b[1;33m(\u001b[0m\u001b[0murl\u001b[0m\u001b[1;33m)\u001b[0m\u001b[1;33m\u001b[0m\u001b[1;33m\u001b[0m\u001b[0m\n",
      "\u001b[1;31mKeyboardInterrupt\u001b[0m: "
     ]
    }
   ],
   "source": [
    "from bs4 import BeautifulSoup\n",
    "import requests\n",
    "import time\n",
    "\n",
    "url='https://www.cricbuzz.com/'\n",
    "\n",
    "while True:\n",
    "    time.sleep(1)\n",
    "    \n",
    "    response=requests.get(url)\n",
    "    soup=BeautifulSoup(response.text,'lxml')\n",
    "    match_name=soup.find('div',class_= 'cb-mtch-crd-hdr cb-font-10').text\n",
    "    score_div=soup.find('div',class_= 'cb-col-50 cb-ovr-flo').text\n",
    " \n",
    "    print(\"Match Name is \\n {}\".format(match_name))\n",
    "    print(\"current Score is \\n {}\".format(score_div))\n"
   ]
  },
  {
   "cell_type": "code",
   "execution_count": null,
   "id": "7673eebf",
   "metadata": {},
   "outputs": [],
   "source": []
  },
  {
   "cell_type": "code",
   "execution_count": null,
   "id": "a0d80dce",
   "metadata": {},
   "outputs": [],
   "source": []
  },
  {
   "cell_type": "code",
   "execution_count": null,
   "id": "cefbf5cf",
   "metadata": {},
   "outputs": [],
   "source": []
  }
 ],
 "metadata": {
  "kernelspec": {
   "display_name": "Python 3 (ipykernel)",
   "language": "python",
   "name": "python3"
  },
  "language_info": {
   "codemirror_mode": {
    "name": "ipython",
    "version": 3
   },
   "file_extension": ".py",
   "mimetype": "text/x-python",
   "name": "python",
   "nbconvert_exporter": "python",
   "pygments_lexer": "ipython3",
   "version": "3.9.13"
  }
 },
 "nbformat": 4,
 "nbformat_minor": 5
}
